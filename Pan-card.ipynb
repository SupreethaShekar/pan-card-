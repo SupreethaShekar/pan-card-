!pip install easyocr
import matplotlib.pyplot as plt
import cv2
import easyocr
from pylab import rcParams
from IPython.display import Image
rcParams['figure.figsize'] = 8, 16 
reader = easyocr.Reader(['en'])
Image("Image Name.jpg")
output = reader.readtext('Image Name.jpg')
output
cord = output[-1][0]
x_min, y_min = [min(idx) for idx in zip(*cord)]
x_max, y_max = [max(idx) for idx in zip(*cord)]
image = cv2.imread('1655883387249.jpg')
cv2.rectangle(image,(x_min,y_min),(x_max,y_max),(0,0,255),2)
plt.imshow(cv2.cvtColor(image, cv2.COLOR_BGR2RGB))
